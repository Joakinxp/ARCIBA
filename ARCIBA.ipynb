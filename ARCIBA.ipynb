{
 "cells": [
  {
   "cell_type": "code",
   "execution_count": null,
   "metadata": {},
   "outputs": [],
   "source": [
    "import pandas as pd\n",
    "import numpy as np\n",
    "\n",
    "# import the CSV as a dataframe\n",
    "df = pd.read_csv('PadronCaba.txt', sep=';',encoding='latin1',usecols=range(12),header=None)\n"
   ]
  },
  {
   "cell_type": "code",
   "execution_count": null,
   "metadata": {},
   "outputs": [],
   "source": [
    "df.head(20)"
   ]
  },
  {
   "cell_type": "code",
   "execution_count": null,
   "metadata": {},
   "outputs": [],
   "source": [
    "df.columns = ['Fecha_de_Publicación', 'Fecha_Vigencia_Desde', 'Fecha_Vigencia_Hasta', 'Número_de_Cuit', 'Tipo-Contr_Insc',\n",
    " 'Marca-alta_sujeto', 'Marca-alícuota', 'AlícuotaPercepción', 'Alícuota- Retención', 'Nro-GrupoPercepción', 'Nro-GrupoRetención', 'Razón_Social']"
   ]
  },
  {
   "cell_type": "code",
   "execution_count": null,
   "metadata": {},
   "outputs": [],
   "source": [
    "df.head(20)"
   ]
  },
  {
   "cell_type": "code",
   "execution_count": null,
   "metadata": {},
   "outputs": [],
   "source": [
    "# import the list of active suppliers from the TXT file\n",
    "with open('Proveedoresactivos.txt', 'r') as f:\n",
    "    active_suppliers = f.read().splitlines()\n",
    "\n",
    "    # import the list of active clients from the TXT file\n",
    "with open('clientes_activos.txt', 'r') as f:\n",
    "    active_clients = f.read().splitlines()"
   ]
  },
  {
   "cell_type": "code",
   "execution_count": null,
   "metadata": {},
   "outputs": [],
   "source": [
    "df.iloc[:,3] = df.iloc[:,3].astype(str)"
   ]
  },
  {
   "cell_type": "code",
   "execution_count": null,
   "metadata": {},
   "outputs": [],
   "source": [
    "# filter the dataframe to only include rows where the fourth column matches a value in the active_suppliers list\n",
    "df_suppliers = df[df.iloc[:,3].apply(lambda x: x in active_suppliers)]\n",
    "\n",
    "# filter the dataframe to only include rows where the fourth column matches a value in the active_suppliers list\n",
    "df_clients = df[df.iloc[:,3].apply(lambda x: x in active_clients)]"
   ]
  },
  {
   "cell_type": "code",
   "execution_count": null,
   "metadata": {},
   "outputs": [],
   "source": [
    "df.head(10)"
   ]
  },
  {
   "cell_type": "code",
   "execution_count": null,
   "metadata": {},
   "outputs": [],
   "source": [
    "# output the filtered dataframe to a new CSV\n",
    "df_suppliers.to_csv('Padron_proveedores.csv', index=False)\n",
    "\n",
    "# output the filtered dataframe to a new CSV\n",
    "df_clients.to_csv('Padron_clientes.csv', index=False)"
   ]
  },
  {
   "cell_type": "code",
   "execution_count": null,
   "metadata": {},
   "outputs": [],
   "source": []
  },
  {
   "cell_type": "code",
   "execution_count": null,
   "metadata": {},
   "outputs": [],
   "source": []
  },
  {
   "cell_type": "code",
   "execution_count": null,
   "metadata": {},
   "outputs": [],
   "source": []
  }
 ],
 "metadata": {
  "language_info": {
   "name": "python"
  }
 },
 "nbformat": 4,
 "nbformat_minor": 2
}
